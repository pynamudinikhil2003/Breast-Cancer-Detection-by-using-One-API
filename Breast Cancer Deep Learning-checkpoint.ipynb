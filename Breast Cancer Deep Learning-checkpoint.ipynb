{
 "cells": [
  {
   "cell_type": "code",
   "execution_count": null,
   "id": "a16a80c3-bdd4-475a-831b-6c0a8a46e1f4",
   "metadata": {
    "tags": []
   },
   "outputs": [],
   "source": [
    "pip install tensorflow"
   ]
  },
  {
   "cell_type": "code",
   "execution_count": null,
   "id": "ceeb445a-874f-45e7-809b-c4d8a0ec21e7",
   "metadata": {},
   "outputs": [],
   "source": [
    "import numpy as np\n",
    "import pandas as pd\n",
    "import matplotlib.pyplot as plt\n",
    "import sklearn.datasets\n",
    "from sklearn.model_selection import train_test_split"
   ]
  },
  {
   "cell_type": "code",
   "execution_count": null,
   "id": "44d8f20a-c14d-4523-9a40-8cfcbca43764",
   "metadata": {},
   "outputs": [],
   "source": [
    "# loading the data from sklearn\n",
    "breast_cancer_dataset = sklearn.datasets.load_breast_cancer()"
   ]
  },
  {
   "cell_type": "code",
   "execution_count": null,
   "id": "71c87d33-abf5-40ef-99d2-8afdabb13792",
   "metadata": {},
   "outputs": [],
   "source": [
    "print(breast_cancer_dataset)"
   ]
  },
  {
   "cell_type": "code",
   "execution_count": null,
   "id": "a365c741-d65f-475a-a3c0-30d40b65d62f",
   "metadata": {},
   "outputs": [],
   "source": [
    "# loading the data to a data frame\n",
    "data_frame = pd.DataFrame(breast_cancer_dataset.data, columns = breast_cancer_dataset.feature_names)"
   ]
  },
  {
   "cell_type": "code",
   "execution_count": null,
   "id": "e10cca74-e399-44f3-85ef-95dd0f8121aa",
   "metadata": {},
   "outputs": [],
   "source": [
    "# print the first 5 rows of the dataframe\n",
    "data_frame.head()"
   ]
  },
  {
   "cell_type": "code",
   "execution_count": null,
   "id": "e814e963-d89f-4790-bc33-a3c0ec418f53",
   "metadata": {},
   "outputs": [],
   "source": [
    "# adding the 'target' column to the data frame\n",
    "data_frame['label'] = breast_cancer_dataset.target"
   ]
  },
  {
   "cell_type": "code",
   "execution_count": null,
   "id": "c31ce743-8c1e-4093-a7f1-28beef24038d",
   "metadata": {},
   "outputs": [],
   "source": [
    "# print last 5 rows of the dataframe\n",
    "data_frame.tail()"
   ]
  },
  {
   "cell_type": "code",
   "execution_count": null,
   "id": "c78e5165-7989-4547-abb7-1b7c4c98fda9",
   "metadata": {},
   "outputs": [],
   "source": [
    "# number of rows and columns in the dataset\n",
    "data_frame.shape"
   ]
  },
  {
   "cell_type": "code",
   "execution_count": null,
   "id": "32be33bb-05cf-4822-ae3d-2deb7024effd",
   "metadata": {},
   "outputs": [],
   "source": [
    "# getting some information about the data\n",
    "data_frame.info()"
   ]
  },
  {
   "cell_type": "code",
   "execution_count": null,
   "id": "c1bb02ab-c705-4ddd-97b3-3d1234440fe5",
   "metadata": {},
   "outputs": [],
   "source": [
    "# checking for missing values\n",
    "data_frame.isnull().sum()"
   ]
  },
  {
   "cell_type": "code",
   "execution_count": null,
   "id": "3d24506d-18a4-48f9-ba26-77f81edfb7ec",
   "metadata": {},
   "outputs": [],
   "source": [
    "# statistical measures about the data\n",
    "data_frame.describe()"
   ]
  },
  {
   "cell_type": "code",
   "execution_count": null,
   "id": "9ab58b7e-337c-41cf-8c9f-6e236e7ef9fd",
   "metadata": {},
   "outputs": [],
   "source": [
    "# checking the distribution of Target Varibale\n",
    "data_frame['label'].value_counts()"
   ]
  },
  {
   "cell_type": "markdown",
   "id": "f6dba7b9-5808-446f-93bb-e5347b896782",
   "metadata": {},
   "source": [
    "1 --> Benign\n",
    "\n",
    "0 --> Malignant"
   ]
  },
  {
   "cell_type": "code",
   "execution_count": null,
   "id": "105d716a-ae3b-4fdb-a646-508a298686a4",
   "metadata": {},
   "outputs": [],
   "source": [
    "data_frame.groupby('label').mean()"
   ]
  },
  {
   "cell_type": "markdown",
   "id": "b399d289-86f6-406a-9f56-2df206df2abf",
   "metadata": {},
   "source": [
    "Separating the features and target"
   ]
  },
  {
   "cell_type": "code",
   "execution_count": null,
   "id": "4825384e-b74d-46d1-ad59-645ba14141a5",
   "metadata": {},
   "outputs": [],
   "source": [
    "X = data_frame.drop(columns='label', axis=1)\n",
    "Y = data_frame['label']"
   ]
  },
  {
   "cell_type": "code",
   "execution_count": null,
   "id": "7721393c-091b-4122-b0ef-7d16c8d70bbd",
   "metadata": {},
   "outputs": [],
   "source": [
    "print(X)"
   ]
  },
  {
   "cell_type": "code",
   "execution_count": null,
   "id": "5ef345bc-5cea-479f-b04d-797bc7cfb5f7",
   "metadata": {},
   "outputs": [],
   "source": [
    "print(Y)"
   ]
  },
  {
   "cell_type": "markdown",
   "id": "6dc29cbd-b613-4075-9968-77a79c615b37",
   "metadata": {},
   "source": [
    "Splitting the data into training data & Testing data"
   ]
  },
  {
   "cell_type": "code",
   "execution_count": null,
   "id": "210eddeb-f6aa-410c-81c5-a2e0e28ee45b",
   "metadata": {},
   "outputs": [],
   "source": [
    "X_train, X_test, Y_train, Y_test = train_test_split(X, Y, test_size=0.2, random_state=2)"
   ]
  },
  {
   "cell_type": "code",
   "execution_count": null,
   "id": "117f405a-0f37-43a9-ad78-906b5d22dbbf",
   "metadata": {},
   "outputs": [],
   "source": [
    "print(X.shape, X_train.shape, X_test.shape)"
   ]
  },
  {
   "cell_type": "markdown",
   "id": "379affc2-6dbd-40b7-b2a8-cd24c29b12f1",
   "metadata": {},
   "source": [
    "Standardize the data"
   ]
  },
  {
   "cell_type": "code",
   "execution_count": null,
   "id": "1ddd53fa-439f-4434-bc6e-2df161b9d69b",
   "metadata": {},
   "outputs": [],
   "source": [
    "\n",
    "from sklearn.preprocessing import StandardScaler"
   ]
  },
  {
   "cell_type": "code",
   "execution_count": null,
   "id": "572b222f-386e-4b50-88b3-1915010ab359",
   "metadata": {},
   "outputs": [],
   "source": [
    "scaler = StandardScaler()\n",
    "\n",
    "X_train_std = scaler.fit_transform(X_train)\n",
    "\n",
    "X_test_std = scaler.transform(X_test)"
   ]
  },
  {
   "cell_type": "markdown",
   "id": "ffdd8e24-8ca4-4c36-ab5d-258edac8946c",
   "metadata": {},
   "source": [
    "**Building the Neural Network**"
   ]
  },
  {
   "cell_type": "code",
   "execution_count": null,
   "id": "1900d600-635f-41bd-b0dd-f346aba2b56d",
   "metadata": {},
   "outputs": [],
   "source": [
    "# importing tensorflow and the oneDNN backend for Keras\n",
    "import os\n",
    "os.environ['TF_CPP_MIN_LOG_LEVEL'] = '2'  # set the logging level to ERROR\n",
    "import tensorflow as tf \n",
    "tf.random.set_seed(3)\n",
    "from tensorflow.python.keras import backend as K\n",
    "from tensorflow.keras.layers.experimental.preprocessing import Rescaling"
   ]
  },
  {
   "cell_type": "code",
   "execution_count": null,
   "id": "e88b83f8-82ad-41b6-84a1-06a71eec8c47",
   "metadata": {},
   "outputs": [],
   "source": [
    "# configure the oneDNN backend\n",
    "K.set_image_data_format('channels_last')\n",
    "K.set_floatx('float32')\n",
    "K.set_session(tf.compat.v1.Session(config=tf.compat.v1.ConfigProto(\n",
    "    intra_op_parallelism_threads=0,\n",
    "    inter_op_parallelism_threads=0,\n",
    "    allow_soft_placement=True,\n",
    "    device_count={'CPU': 1})))"
   ]
  },
  {
   "cell_type": "code",
   "execution_count": null,
   "id": "7207c15f-73b8-4cca-8948-e636dfe2dbab",
   "metadata": {},
   "outputs": [],
   "source": [
    "# define the model using the oneDNN backend\n",
    "model = tf.keras.Sequential([\n",
    "    Rescaling(1./255, input_shape=(30,)),\n",
    "    tf.keras.layers.Dense(20, activation='relu'),\n",
    "    tf.keras.layers.Dense(2, activation='sigmoid')\n",
    "])\n",
    "model.built = True"
   ]
  },
  {
   "cell_type": "code",
   "execution_count": null,
   "id": "40ac6eca-bcf3-4547-9e46-125944e12b1d",
   "metadata": {},
   "outputs": [],
   "source": [
    "# compiling the Neural Network\n",
    "\n",
    "model.compile(optimizer='adam',\n",
    "              loss='sparse_categorical_crossentropy',\n",
    "              metrics=['accuracy'])"
   ]
  },
  {
   "cell_type": "code",
   "execution_count": null,
   "id": "a2b62a77-c20e-4148-b20a-88a3f7d90cb5",
   "metadata": {},
   "outputs": [],
   "source": [
    "# training the Meural Network\n",
    "\n",
    "history = model.fit(X_train_std, Y_train, validation_split=0.1, epochs=100)"
   ]
  },
  {
   "cell_type": "code",
   "execution_count": 29,
   "id": "65eeb5b4-b8a1-46d0-af35-91045482c394",
   "metadata": {},
   "outputs": [
    {
     "data": {
      "text/plain": [
       "<matplotlib.legend.Legend at 0x17d8302c410>"
      ]
     },
     "execution_count": 29,
     "metadata": {},
     "output_type": "execute_result"
    },
    {
     "data": {
      "image/png": "[encoded data removed]",
      "text/plain": [
       "<Figure size 640x480 with 1 Axes>"
      ]
     },
     "metadata": {},
     "output_type": "display_data"
    }
   ],
   "source": [
    "plt.plot(history.history['accuracy'])\n",
    "plt.plot(history.history['val_accuracy'])\n",
    "plt.title('model accuracy')\n",
    "plt.ylabel('accuracy')\n",
    "plt.xlabel('epoch')\n",
    "plt.legend(['training data', 'validation data'], loc = 'lower right')"
   ]
  },
  {
   "cell_type": "code",
   "execution_count": 30,
   "id": "920478f5-d67c-4ade-9ff0-ad12ea963aa9",
   "metadata": {},
   "outputs": [
    {
     "data": {
      "text/plain": [
       "<matplotlib.legend.Legend at 0x17d840f5950>"
      ]
     },
     "execution_count": 30,
     "metadata": {},
     "output_type": "execute_result"
    },
    {
     "data": {
      "image/png": "[encoded data removed]",
      "text/plain": [
       "<Figure size 640x480 with 1 Axes>"
      ]
     },
     "metadata": {},
     "output_type": "display_data"
    }
   ],
   "source": [
    "plt.plot(history.history['loss'])\n",
    "plt.plot(history.history['val_loss'])\n",
    "\n",
    "plt.title('model loss')\n",
    "plt.ylabel('loss')\n",
    "plt.xlabel('epoch')\n",
    "\n",
    "plt.legend(['training data', 'validation data'], loc = 'upper right')"
   ]
  },
  {
   "cell_type": "code",
   "execution_count": 31,
   "id": "01f1c68a-cca6-42f5-9952-7e9af7225d03",
   "metadata": {},
   "outputs": [
    {
     "name": "stdout",
     "output_type": "stream",
     "text": [
      "4/4 [==============================] - 0s 1ms/step - loss: 0.1568 - accuracy: 0.9474\n",
      "0.9473684430122375\n"
     ]
    }
   ],
   "source": [
    "loss, accuracy = model.evaluate(X_test_std, Y_test)\n",
    "print(accuracy)"
   ]
  },
  {
   "cell_type": "code",
   "execution_count": 32,
   "id": "f8a94f14-13f5-4e0c-b630-4a254117a08b",
   "metadata": {},
   "outputs": [
    {
     "name": "stdout",
     "output_type": "stream",
     "text": [
      "(114, 30)\n",
      "[-0.04462793 -1.41612656 -0.05903514 -0.16234067  2.0202457  -0.11323672\n",
      "  0.18500609  0.47102419  0.63336386  0.26335737  0.53209124  2.62763999\n",
      "  0.62351167  0.11405261  1.01246781  0.41126289  0.63848593  2.88971815\n",
      " -0.41675911  0.74270853 -0.32983699 -1.67435595 -0.36854552 -0.38767294\n",
      "  0.32655007 -0.74858917 -0.54689089 -0.18278004 -1.23064515 -0.6268286 ]\n"
     ]
    }
   ],
   "source": [
    "print(X_test_std.shape)\n",
    "print(X_test_std[0])"
   ]
  },
  {
   "cell_type": "code",
   "execution_count": 33,
   "id": "ec8b37eb-53a5-45af-9b5f-63cb0d9e5189",
   "metadata": {},
   "outputs": [
    {
     "name": "stdout",
     "output_type": "stream",
     "text": [
      "4/4 [==============================] - 0s 2ms/step\n"
     ]
    }
   ],
   "source": [
    "Y_pred = model.predict(X_test_std)"
   ]
  },
  {
   "cell_type": "code",
   "execution_count": 34,
   "id": "063e046b-4a2b-421b-b3f5-c4940a17bdbd",
   "metadata": {},
   "outputs": [
    {
     "name": "stdout",
     "output_type": "stream",
     "text": [
      "(114, 2)\n",
      "[0.3620496 0.6433576]\n"
     ]
    }
   ],
   "source": [
    "print(Y_pred.shape)\n",
    "print(Y_pred[0])"
   ]
  },
  {
   "cell_type": "code",
   "execution_count": 35,
   "id": "a0006b32-ad4f-4859-a638-510e59d6dd4b",
   "metadata": {},
   "outputs": [
    {
     "name": "stdout",
     "output_type": "stream",
     "text": [
      "[[-0.04462793 -1.41612656 -0.05903514 ... -0.18278004 -1.23064515\n",
      "  -0.6268286 ]\n",
      " [ 0.24583601 -0.06219797  0.21802678 ...  0.54129749  0.11047691\n",
      "   0.0483572 ]\n",
      " [-1.26115925 -0.29051645 -1.26499659 ... -1.35138617  0.269338\n",
      "  -0.28231213]\n",
      " ...\n",
      " [ 0.72709489  0.45836817  0.75277276 ...  1.46701686  1.19909344\n",
      "   0.65319961]\n",
      " [ 0.25437907  1.33054477  0.15659489 ... -1.29043534 -2.22561725\n",
      "  -1.59557344]\n",
      " [ 0.84100232 -0.06676434  0.8929529  ...  2.15137705  0.35629355\n",
      "   0.37459546]]\n"
     ]
    }
   ],
   "source": [
    "print(X_test_std)"
   ]
  },
  {
   "cell_type": "code",
   "execution_count": 36,
   "id": "c09f5441-e403-4b56-8b07-10175f2c8cc5",
   "metadata": {},
   "outputs": [
    {
     "name": "stdout",
     "output_type": "stream",
     "text": [
      "[[0.3620496  0.6433576 ]\n",
      " [0.42839137 0.5763648 ]\n",
      " [0.10187166 0.8881498 ]\n",
      " [0.97059363 0.03968397]\n",
      " [0.4344361  0.5711516 ]\n",
      " [0.91478264 0.10308091]\n",
      " [0.3020176  0.6957418 ]\n",
      " [0.1284024  0.8607042 ]\n",
      " [0.2067823  0.78490376]\n",
      " [0.19046827 0.80046797]\n",
      " [0.41442135 0.589722  ]\n",
      " [0.2332995  0.75971764]\n",
      " [0.25559816 0.7411344 ]\n",
      " [0.30502504 0.692236  ]\n",
      " [0.16575593 0.8245517 ]\n",
      " [0.7650963  0.25806448]\n",
      " [0.13579085 0.85426503]\n",
      " [0.16440839 0.82782346]\n",
      " [0.1660638  0.82499015]\n",
      " [0.896237   0.12262998]\n",
      " [0.5485611  0.48064056]\n",
      " [0.13422728 0.85575485]\n",
      " [0.15983808 0.830672  ]\n",
      " [0.1390793  0.85043585]\n",
      " [0.27878094 0.7169239 ]\n",
      " [0.8168229  0.20556776]\n",
      " [0.24533673 0.7482552 ]\n",
      " [0.33213595 0.66691834]\n",
      " [0.7561175  0.2662    ]\n",
      " [0.8018978  0.22007467]\n",
      " [0.2509682  0.74225533]\n",
      " [0.2307762  0.761882  ]\n",
      " [0.17746569 0.8134601 ]\n",
      " [0.9405576  0.07492295]\n",
      " [0.88881934 0.13107595]\n",
      " [0.23506495 0.7601246 ]\n",
      " [0.10289334 0.8864687 ]\n",
      " [0.2986519  0.69667244]\n",
      " [0.11521502 0.8752344 ]\n",
      " [0.21044314 0.78223675]\n",
      " [0.95713204 0.05551852]\n",
      " [0.5968537  0.4199668 ]\n",
      " [0.10270533 0.88775915]\n",
      " [0.16572955 0.82640177]\n",
      " [0.6631247  0.35771006]\n",
      " [0.17043705 0.8198614 ]\n",
      " [0.10572726 0.8844749 ]\n",
      " [0.13536736 0.8545095 ]\n",
      " [0.91344786 0.1051703 ]\n",
      " [0.7770989  0.24554524]\n",
      " [0.1982443  0.79244334]\n",
      " [0.5895965  0.42596722]\n",
      " [0.3970426  0.606147  ]\n",
      " [0.16681823 0.8232667 ]\n",
      " [0.13201743 0.85802156]\n",
      " [0.43734154 0.56771624]\n",
      " [0.18582709 0.8066317 ]\n",
      " [0.13106784 0.85868526]\n",
      " [0.8557581  0.16641676]\n",
      " [0.2094549  0.78345233]\n",
      " [0.34066916 0.6589919 ]\n",
      " [0.8267131  0.19723503]\n",
      " [0.1525633  0.83751166]\n",
      " [0.8749567  0.14600681]\n",
      " [0.71988106 0.30098015]\n",
      " [0.518586   0.49897715]\n",
      " [0.9045368  0.11463459]\n",
      " [0.7626872  0.2600722 ]\n",
      " [0.30459598 0.6917252 ]\n",
      " [0.55932933 0.45612282]\n",
      " [0.72217536 0.301984  ]\n",
      " [0.8906888  0.1284158 ]\n",
      " [0.21859354 0.7731988 ]\n",
      " [0.6571495  0.36255476]\n",
      " [0.10640075 0.88339514]\n",
      " [0.67489964 0.34559035]\n",
      " [0.15630789 0.8348786 ]\n",
      " [0.15645494 0.83339083]\n",
      " [0.35881788 0.6412102 ]\n",
      " [0.55609465 0.45838204]\n",
      " [0.860482   0.16155139]\n",
      " [0.6823165  0.34011105]\n",
      " [0.86618084 0.15407908]\n",
      " [0.31959584 0.67961323]\n",
      " [0.23764113 0.75539815]\n",
      " [0.4179735  0.5865969 ]\n",
      " [0.19612788 0.7997675 ]\n",
      " [0.19750114 0.79363716]\n",
      " [0.3079639  0.68984777]\n",
      " [0.9264612  0.09061465]\n",
      " [0.18557417 0.8059208 ]\n",
      " [0.26459786 0.7292208 ]\n",
      " [0.1754558  0.8181144 ]\n",
      " [0.8455694  0.17912516]\n",
      " [0.62658    0.39052814]\n",
      " [0.24984226 0.74311894]\n",
      " [0.8884652  0.13169321]\n",
      " [0.84285086 0.17915499]\n",
      " [0.249161   0.7441509 ]\n",
      " [0.10563018 0.8840031 ]\n",
      " [0.0817646  0.90842485]\n",
      " [0.632497   0.38713503]\n",
      " [0.93038046 0.08640228]\n",
      " [0.9309263  0.08549731]\n",
      " [0.21554221 0.7759711 ]\n",
      " [0.1247493  0.8657997 ]\n",
      " [0.08890712 0.90324634]\n",
      " [0.17525917 0.81784296]\n",
      " [0.05093995 0.94173425]\n",
      " [0.27106455 0.72484136]\n",
      " [0.88847303 0.13201241]\n",
      " [0.90064883 0.11827232]\n",
      " [0.41135174 0.5938589 ]\n",
      " [0.80380505 0.21892175]]\n"
     ]
    }
   ],
   "source": [
    "print(Y_pred)"
   ]
  },
  {
   "cell_type": "code",
   "execution_count": 37,
   "id": "bb9be3d9-9d54-4fd1-8ad8-c89517956caa",
   "metadata": {},
   "outputs": [
    {
     "name": "stdout",
     "output_type": "stream",
     "text": [
      "[0.25, 0.56]\n",
      "1\n"
     ]
    }
   ],
   "source": [
    "#  argmax function\n",
    "\n",
    "my_list = [0.25, 0.56]\n",
    "\n",
    "index_of_max_value = np.argmax(my_list)\n",
    "print(my_list)\n",
    "print(index_of_max_value)"
   ]
  },
  {
   "cell_type": "code",
   "execution_count": 38,
   "id": "cd89e182-baa3-4f85-b631-044836fc55c5",
   "metadata": {},
   "outputs": [
    {
     "name": "stdout",
     "output_type": "stream",
     "text": [
      "[1, 1, 1, 0, 1, 0, 1, 1, 1, 1, 1, 1, 1, 1, 1, 0, 1, 1, 1, 0, 0, 1, 1, 1, 1, 0, 1, 1, 0, 0, 1, 1, 1, 0, 0, 1, 1, 1, 1, 1, 0, 0, 1, 1, 0, 1, 1, 1, 0, 0, 1, 0, 1, 1, 1, 1, 1, 1, 0, 1, 1, 0, 1, 0, 0, 0, 0, 0, 1, 0, 0, 0, 1, 0, 1, 0, 1, 1, 1, 0, 0, 0, 0, 1, 1, 1, 1, 1, 1, 0, 1, 1, 1, 0, 0, 1, 0, 0, 1, 1, 1, 0, 0, 0, 1, 1, 1, 1, 1, 1, 0, 0, 1, 0]\n"
     ]
    }
   ],
   "source": [
    "# converting the prediction probability to class labels\n",
    "\n",
    "Y_pred_labels = [np.argmax(i) for i in Y_pred]\n",
    "print(Y_pred_labels)"
   ]
  },
  {
   "cell_type": "markdown",
   "id": "f6f80aee-861d-44df-a9c2-72755d11cf74",
   "metadata": {},
   "source": [
    "Building the predictive system"
   ]
  },
  {
   "cell_type": "code",
   "execution_count": 39,
   "id": "3600eedf-4ad8-46b9-ba71-394ae2f2200d",
   "metadata": {},
   "outputs": [
    {
     "name": "stdout",
     "output_type": "stream",
     "text": [
      "1/1 [==============================] - 0s 29ms/step\n",
      "[[0.1423124  0.84736717]]\n",
      "[1]\n",
      "The tumor is Benign\n"
     ]
    },
    {
     "name": "stderr",
     "output_type": "stream",
     "text": [
      "C:\\Users\\Sirius Black\\AppData\\Local\\Programs\\Python\\Python311\\Lib\\site-packages\\sklearn\\base.py:439: UserWarning: X does not have valid feature names, but StandardScaler was fitted with feature names\n",
      "  warnings.warn(\n"
     ]
    }
   ],
   "source": [
    "input_data = (11.76,21.6,74.72,427.9,0.08637,0.04966,0.01657,0.01115,0.1495,0.05888,0.4062,1.21,2.635,28.47,0.005857,0.009758,0.01168,0.007445,0.02406,0.001769,12.98,25.72,82.98,516.5,0.1085,0.08615,0.05523,0.03715,0.2433,0.06563)\n",
    "\n",
    "# change the input_data to a numpy array\n",
    "input_data_as_numpy_array = np.asarray(input_data)\n",
    "\n",
    "# reshape the numpy array as we are predicting for one data point\n",
    "input_data_reshaped = input_data_as_numpy_array.reshape(1,-1)\n",
    "\n",
    "# standardizing the input data\n",
    "input_data_std = scaler.transform(input_data_reshaped)\n",
    "\n",
    "prediction = model.predict(input_data_std)\n",
    "print(prediction)\n",
    "\n",
    "prediction_label = [np.argmax(prediction)]\n",
    "print(prediction_label)\n",
    "\n",
    "if(prediction_label[0] == 0):\n",
    "  print('The tumor is Malignant')\n",
    "\n",
    "else:\n",
    "  print('The tumor is Benign')"
   ]
  },
  {
   "cell_type": "code",
   "execution_count": 40,
   "id": "938fa7f2-55d5-417d-9c2d-492132391720",
   "metadata": {},
   "outputs": [],
   "source": [
    "import pickle\n",
    "import joblib\n"
   ]
  },
  {
   "cell_type": "code",
   "execution_count": 43,
   "id": "3c326a50-3de3-44d1-abf3-ce60ba4c88cb",
   "metadata": {},
   "outputs": [
    {
     "data": {
      "text/plain": [
       "['modeljob.pkl']"
      ]
     },
     "execution_count": 43,
     "metadata": {},
     "output_type": "execute_result"
    }
   ],
   "source": [
    "#import bz2\n",
    "#file = bz2.BZ2File('model2.pkl.h5', 'wb')\n",
    "#pickle.dump(model, file)\n",
    "#file.close()\n",
    "joblib.dump(model, 'modeljob.pkl')\n"
   ]
  },
  {
   "cell_type": "code",
   "execution_count": 42,
   "id": "4c11c8fe-7e8d-4ae4-aff8-5b5210405ae6",
   "metadata": {},
   "outputs": [],
   "source": [
    "model = joblib.load('modeljob.pkl')"
   ]
  },
  {
   "cell_type": "code",
   "execution_count": null,
   "id": "6f74d8c2-1316-4729-8fb4-1ec5db2ad70e",
   "metadata": {},
   "outputs": [],
   "source": [
    "import pickle, bz2\n",
    "from flask import Flask, render_template, request"
   ]
  },
  {
   "cell_type": "code",
   "execution_count": null,
   "id": "a83c0dca-fdea-4940-82d1-dff325f3bfa2",
   "metadata": {},
   "outputs": [],
   "source": [
    "# Load the trained model\n",
    "# with open('model1.pkl', 'rb') as f:\n",
    "#     model = pickle.load(f)\n",
    "\n",
    "model = bz2.BZ2File('model1.pkl', 'rb')\n",
    "\n",
    "# Initialize the Flask application\n",
    "app = Flask(__name__)\n",
    "\n",
    "# Define the route for the home page\n",
    "@app.route('/')\n",
    "def home():\n",
    "    return render_template('home.html')\n",
    "\n",
    "# Define the route for the prediction page\n",
    "@app.route('/predict', methods=['POST'])\n",
    "def predict():\n",
    "    # Get the input values from the HTML form\n",
    "    input_features = [float(x) for x in request.form.values()]\n",
    "\n",
    "    # Make a prediction using the loaded model\n",
    "    prediction = model.predict([input_features])[0]\n",
    "\n",
    "    # Determine the output message based on the prediction\n",
    "    if prediction == 0:\n",
    "        output = 'Benign'\n",
    "    else:\n",
    "        output = 'Malignant'\n",
    "\n",
    "    # Render the result template with the prediction\n",
    "    return render_template('result.html', prediction=output)\n",
    "\n",
    "# Run the Flask application\n",
    "if __name__ == '__main__':\n",
    "    app.run(debug=True, port=3004)\n"
   ]
  },
  {
   "cell_type": "code",
   "execution_count": null,
   "id": "68e508b8-620d-4f2a-80ca-1fb7af2370c1",
   "metadata": {},
   "outputs": [],
   "source": [
    "# Initialize the Flask application\n",
    "app = Flask(__name__)"
   ]
  },
  {
   "cell_type": "code",
   "execution_count": null,
   "id": "599824ad-e839-4a16-a939-dd300982ed9a",
   "metadata": {},
   "outputs": [],
   "source": [
    "# Define the route for the home page\n",
    "@app.route('/')\n",
    "def home():\n",
    "    return render_template('home.html')"
   ]
  },
  {
   "cell_type": "code",
   "execution_count": null,
   "id": "96150b3e-56fc-41f6-b1fc-f831e3b66254",
   "metadata": {},
   "outputs": [],
   "source": [
    "# Define the route for the prediction page\n",
    "@app.route('/predict', methods=['POST'])\n",
    "def predict():\n",
    "    # Get the input values from the HTML form\n",
    "    input_features = [float(x) for x in request.form.values()]\n",
    "\n",
    "    # Make a prediction using the loaded model\n",
    "    prediction = model.predict([input_features])[0]\n",
    "\n",
    "    # Determine the output message based on the prediction\n",
    "    if prediction == 0:\n",
    "        output = 'Benign'\n",
    "    else:\n",
    "        output = 'Malignant'\n",
    "\n",
    "    # Render the result template with the prediction\n",
    "    return render_template('result.html', prediction=output)"
   ]
  },
  {
   "cell_type": "code",
   "execution_count": null,
   "id": "e70256a4-8862-44a6-9504-91f4c8ff3bae",
   "metadata": {},
   "outputs": [],
   "source": [
    "# Run the Flask application\n",
    "if __name__ == '__main__':\n",
    "    app.run(debug=True, port=3004)"
   ]
  },
  {
   "cell_type": "code",
   "execution_count": null,
   "id": "eb3f7439-197c-45a8-91ec-edfbed798346",
   "metadata": {},
   "outputs": [],
   "source": []
  },
  {
   "cell_type": "code",
   "execution_count": null,
   "id": "ee4d8e67-a461-4a2b-8baa-31bf3005dc02",
   "metadata": {},
   "outputs": [],
   "source": []
  }
 ],
 "metadata": {
  "kernelspec": {
   "display_name": "Python 3 (ipykernel)",
   "language": "python",
   "name": "python3"
  },
  "language_info": {
   "codemirror_mode": {
    "name": "ipython",
    "version": 3
   },
   "file_extension": ".py",
   "mimetype": "text/x-python",
   "name": "python",
   "nbconvert_exporter": "python",
   "pygments_lexer": "ipython3",
   "version": "3.10.9"
  },
  "toc-showcode": false
 },
 "nbformat": 4,
 "nbformat_minor": 5
}
